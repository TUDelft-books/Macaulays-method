{
 "cells": [
  {
   "cell_type": "code",
   "execution_count": 2,
   "metadata": {},
   "outputs": [],
   "source": [
    "import sympy as sym"
   ]
  },
  {
   "cell_type": "code",
   "execution_count": 5,
   "metadata": {},
   "outputs": [],
   "source": [
    "x = sym.symbols('x')\n",
    "A_v, A_m = sym.symbols('A_v A_m')\n",
    "F_veer = sym.symbols('F_veer')\n",
    "K_veer = 20\n",
    "phi_veer = sym.symbols('phi_veer')"
   ]
  },
  {
   "cell_type": "code",
   "execution_count": 6,
   "metadata": {},
   "outputs": [],
   "source": [
    "q = A_v * sym.SingularityFunction(x, 0, -2) + A_m * sym.SingularityFunction(x, 0, -1) + 10 * sym.SingularityFunction(x,10,-1) + F_veer * sym.SingularityFunction(x, 5, -1)"
   ]
  },
  {
   "cell_type": "code",
   "execution_count": 7,
   "metadata": {},
   "outputs": [],
   "source": [
    "CV, CM, Cphi, Cuz = sym.symbols('C_V C_M C_phi C_uz') \n",
    "EI = sym.symbols('EI',positive=True)\n",
    "V = -sym.integrate(q.expand(), x) + CV\n",
    "M = sym.integrate(V, x) + CM\n",
    "kappa = M / EI + phi_veer * sym.SingularityFunction(x, 5, -1)\n",
    "phi = sym.integrate(kappa, x) + Cphi\n",
    "uz = -sym.integrate(phi, x) + Cuz"
   ]
  },
  {
   "cell_type": "code",
   "execution_count": 9,
   "metadata": {},
   "outputs": [
    {
     "data": {
      "text/latex": [
       "$\\displaystyle C_{uz} = 0$"
      ],
      "text/plain": [
       "Eq(C_uz, 0)"
      ]
     },
     "metadata": {},
     "output_type": "display_data"
    },
    {
     "data": {
      "text/plain": [
       "{A_m: 20*phi_veer - 10,\n",
       " A_v: (-100*_oo*phi_veer + 100*_oo - 10)/_oo,\n",
       " C_M: 0,\n",
       " C_V: 0,\n",
       " C_phi: 0,\n",
       " C_uz: 0,\n",
       " F_veer: -20*phi_veer}"
      ]
     },
     "metadata": {},
     "output_type": "display_data"
    }
   ],
   "source": [
    "# 4 reactiekrachten + 6 integratieconstanten = 10 voorwaarden\n",
    "oo = sym.Dummy('oo',prime=True)\n",
    "dx = 1 / oo\n",
    "Eq1 = sym.Eq(V.subs(x,0-dx),0).subs(oo,sym.oo)\n",
    "Eq2 = sym.Eq(V.subs(x,10+dx),0)\n",
    "Eq3 = sym.Eq(M.subs(x,0-dx),0)\n",
    "Eq4 = sym.Eq(M.subs(x,10-dx),0)\n",
    "Eq5 = sym.Eq(uz.subs(x,0),0)\n",
    "Eq6 = sym.Eq(phi.subs(x,0),0)\n",
    "Eq7 = sym.Eq(phi_veer * K_veer+F_veer,0)\n",
    "display(Eq5)\n",
    "\n",
    "sol = sym.solve((Eq1,Eq2,Eq3,Eq4,Eq5,Eq6,Eq7),(CV,CM,Cphi,Cuz,A_v, A_m, F_veer))\n",
    "display(sol)"
   ]
  },
  {
   "cell_type": "code",
   "execution_count": null,
   "metadata": {},
   "outputs": [],
   "source": []
  }
 ],
 "metadata": {
  "kernelspec": {
   "display_name": "sympy-dev",
   "language": "python",
   "name": "python3"
  },
  "language_info": {
   "codemirror_mode": {
    "name": "ipython",
    "version": 3
   },
   "file_extension": ".py",
   "mimetype": "text/x-python",
   "name": "python",
   "nbconvert_exporter": "python",
   "pygments_lexer": "ipython3",
   "version": "3.12.3"
  }
 },
 "nbformat": 4,
 "nbformat_minor": 2
}
